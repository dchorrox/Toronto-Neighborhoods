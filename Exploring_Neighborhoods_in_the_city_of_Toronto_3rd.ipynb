#Problem 3

import pandas as pd
import numpy as np
import requests
from bs4 import BeautifulSoup
